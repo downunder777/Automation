{
 "cells": [
  {
   "cell_type": "code",
   "execution_count": null,
   "id": "29a00da6",
   "metadata": {},
   "outputs": [],
   "source": [
    "import tabula\n",
    "import pandas as pd\n"
   ]
  },
  {
   "cell_type": "code",
   "execution_count": null,
   "id": "782601c5",
   "metadata": {},
   "outputs": [],
   "source": [
    "pdf_file_path = r\"C:\\Users\\nithi\\Downloads\\Rosters\\roster01.pdf\"\n",
    "excel_file_path = r\"C:\\Users\\nithi\\Downloads\\Rosters\\roster01.xlsx\""
   ]
  },
  {
   "cell_type": "code",
   "execution_count": null,
   "id": "6e3e25d6",
   "metadata": {},
   "outputs": [],
   "source": [
    "tables = tabula.read_pdf(r\"C:\\Users\\nithi\\Downloads\\Rosters\\roster01.pdf\", pages='all', multiple_tables=True)"
   ]
  },
  {
   "cell_type": "code",
   "execution_count": null,
   "id": "9713397e",
   "metadata": {},
   "outputs": [],
   "source": [
    "if tables:\n",
    "    df = tables[0]\n",
    "else:\n",
    "    print(\"No tables found in the PDF.\")"
   ]
  },
  {
   "cell_type": "code",
   "execution_count": null,
   "id": "e845bdf8",
   "metadata": {},
   "outputs": [],
   "source": [
    "if 'df' in locals():\n",
    "    df.to_excel(r\"C:\\Users\\nithi\\Downloads\\Rosters\\roster01.xlsx\", index=False)\n",
    "    print(f\"Table extracted and saved to {excel_file_path}\")\n",
    "else:\n",
    "    print(\"No data frame (table) available to save.\")"
   ]
  },
  {
   "cell_type": "code",
   "execution_count": null,
   "id": "c9becd85",
   "metadata": {},
   "outputs": [],
   "source": [
    "# finished"
   ]
  }
 ],
 "metadata": {
  "jupytext": {
   "formats": "ipynb,md"
  },
  "kernelspec": {
   "display_name": "Python 3 (ipykernel)",
   "language": "python",
   "name": "python3"
  },
  "language_info": {
   "codemirror_mode": {
    "name": "ipython",
    "version": 3
   },
   "file_extension": ".py",
   "mimetype": "text/x-python",
   "name": "python",
   "nbconvert_exporter": "python",
   "pygments_lexer": "ipython3",
   "version": "3.11.4"
  }
 },
 "nbformat": 4,
 "nbformat_minor": 5
}
